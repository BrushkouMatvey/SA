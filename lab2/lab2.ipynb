{
 "cells": [
  {
   "cell_type": "code",
   "execution_count": 38,
   "metadata": {},
   "outputs": [],
   "source": [
    "from scipy.stats import describe\n",
    "import pandas as pd\n",
    "import scipy\n",
    "import math\n",
    "\n",
    "data = pd.read_excel('Faults.xlsx', index_col=False, header=0)\n",
    "data_x = data.Edges_Index.values\n",
    "data_y = data.Empty_Index.values\n",
    "\n",
    "N_data_x = len(data_x)\n",
    "N_data_y = len(data_x)\n",
    "t = 2.0"
   ]
  },
  {
   "cell_type": "markdown",
   "metadata": {},
   "source": [
    "# Доверительный интервал для математического ожидания (data_x)"
   ]
  },
  {
   "cell_type": "code",
   "execution_count": 39,
   "metadata": {},
   "outputs": [
    {
     "name": "stdout",
     "output_type": "stream",
     "text": [
      "M(X) : 0.33171519835136487\n",
      "M(X^2): 0.19981582635754766\n",
      "D(X) : 0.08978085354026231\n",
      "\n",
      "Cреднеквадратичное отклонение: 0.2996345332905777\n",
      "Ошибка репрезентативности: 0.006801099008844851\n",
      "Предельная ошибка выборки для: 0.013602198017689702\n",
      "\n",
      "Доверительный интервал для математического ожидания:0.3181130003336752 < a < 0.34531739636905456\n"
     ]
    }
   ],
   "source": [
    "Expectation_data_x = sum(data_x)/ N_data_x #M(X) Математическое ожидание\n",
    "\n",
    "squares = map(lambda x: x*x, data_x)\n",
    "Expectation_data_x_x = sum(squares)/ N_data_x #M(X^2)\n",
    "\n",
    "Variance_x = Expectation_data_x_x - Expectation_data_x ** 2 #D(X) = M(X^2)- M(X)^2\n",
    "Standard_deviation_x = math.sqrt(Variance_x) #среднеквадратичное отклонение\n",
    "Standard_error_x = Standard_deviation_x/math.sqrt(N_data_x) #стандартная ошибка среднего, или ошибка репрезентативности\n",
    "Margin_of_error_x = 2.0 * Standard_error_x #предельная ошибка выборки (дельта)\n",
    "print(\"M(X) : {0}\\nM(X^2): {1}\\nD(X) : {2}\\n\\nCреднеквадратичное отклонение: {3}\\nОшибка репрезентативности: {4}\\nПредельная ошибка выборки для: {5}\\n\". format(Expectation_data_x, Expectation_data_x_x, Variance_x,Standard_deviation_x, Standard_error_x,Margin_of_error_x))\n",
    "print(\"Доверительный интервал для математического ожидания:{0} < a < {1}\". format(Expectation_data_x - Margin_of_error_x,Expectation_data_x + Margin_of_error_x))\n"
   ]
  },
  {
   "cell_type": "markdown",
   "metadata": {},
   "source": [
    "# Доверительный интервал для дисперсии (data_x)"
   ]
  },
  {
   "cell_type": "code",
   "execution_count": 40,
   "metadata": {},
   "outputs": [
    {
     "name": "stdout",
     "output_type": "stream",
     "text": [
      "Доверительный интервал для дисперсии:4.088519504445648e-05 < sigma < 5.259423450279481e-05\n"
     ]
    }
   ],
   "source": [
    "Gamma = 0.95\n",
    "\n",
    "alpha_1 = (1-Gamma)/2 #Вероятность, связанная с распределением хи-квадрат\n",
    "alpha_2 = (1+Gamma)/2 #Вероятность, связанная с распределением хи-квадрат\n",
    "k = 1941 - 1 #N_data_x - 1 Число степеней свободы\n",
    "hi_1 = 2064\n",
    "hi_2 = 1819.8\n",
    "\n",
    "a = ((N_data_x - 1)*Standard_deviation_x**2)/hi_1**2\n",
    "b = ((N_data_x - 1)*Standard_deviation_x**2)/hi_2**2\n",
    "print(\"Доверительный интервал для дисперсии:{0} < sigma < {1}\". format(a, b))"
   ]
  },
  {
   "cell_type": "markdown",
   "metadata": {},
   "source": [
    "# Доверительный интервал для математического ожидания (data_y)"
   ]
  },
  {
   "cell_type": "code",
   "execution_count": 41,
   "metadata": {},
   "outputs": [
    {
     "name": "stdout",
     "output_type": "stream",
     "text": [
      "M(Y) : 0.41420334878928305\n",
      "M(Y^2): 0.19039542374549234\n",
      "D(Y) : 0.01883100959723588\n",
      "\n",
      "Cреднеквадратичное отклонение: 0.13722612578235924\n",
      "Ошибка репрезентативности: 0.0031147560256045105\n",
      "Предельная ошибка выборки для: 0.006229512051209021\n",
      "\n",
      "Доверительный интервал для математического ожидания:0.407973836738074 < a < 0.4204328608404921\n"
     ]
    }
   ],
   "source": [
    "Expectation_data_y = sum(data_y)/ N_data_y #M(Y)\n",
    "\n",
    "squares = map(lambda y: y*y, data_y)\n",
    "Expectation_data_y_y = sum(squares)/ N_data_y #M(Y^2)\n",
    "\n",
    "Variance_y = Expectation_data_y_y - Expectation_data_y ** 2 #D(Y) = M(Y^2)- M(Y)^2\n",
    "Standard_deviation_y = math.sqrt(Variance_y) #среднеквадратичное отклонение\n",
    "Standard_error_y = Standard_deviation_y/math.sqrt(N_data_y) #стандартная ошибка среднего, или ошибка репрезентативности\n",
    "Margin_of_error_y = 2.0 * Standard_error_y #предельная ошибка выборки (дельта)\n",
    "Сonfidence_interval_y = 2 * Margin_of_error_y #доверительный интервал для математического ожидания\n",
    "print(\"M(Y) : {0}\\nM(Y^2): {1}\\nD(Y) : {2}\\n\\nCреднеквадратичное отклонение: {3}\\nОшибка репрезентативности: {4}\\nПредельная ошибка выборки для: {5}\\n\".format(Expectation_data_y, Expectation_data_y_y, Variance_y,Standard_deviation_y, Standard_error_y, Margin_of_error_y))\n",
    "print(\"Доверительный интервал для математического ожидания:{0} < a < {1}\". format(Expectation_data_y - Margin_of_error_y,Expectation_data_y + Margin_of_error_y))\n"
   ]
  },
  {
   "cell_type": "markdown",
   "metadata": {},
   "source": [
    "# Доверительный интервал для дисперсии (data_x)"
   ]
  },
  {
   "cell_type": "code",
   "execution_count": 42,
   "metadata": {},
   "outputs": [
    {
     "name": "stdout",
     "output_type": "stream",
     "text": [
      "Доверительный интервал для дисперсии:8.575430839736381e-06 < sigma < 1.1031333470640892e-05\n"
     ]
    }
   ],
   "source": [
    "Gamma = 0.95\n",
    "\n",
    "alpha_1 = (1-Gamma)/2 #Вероятность, связанная с распределением хи-квадрат\n",
    "alpha_2 = (1+Gamma)/2 #Вероятность, связанная с распределением хи-квадрат\n",
    "k = 1941 - 1 #N_data_y - 1 Число степеней свободы\n",
    "hi_1 = 2064\n",
    "hi_2 = 1819.8\n",
    "a = ((N_data_x - 1)*Standard_deviation_y**2)/hi_1**2\n",
    "b = ((N_data_x - 1)*Standard_deviation_y**2)/hi_2**2\n",
    "print(\"Доверительный интервал для дисперсии:{0} < sigma < {1}\". format(a, b))"
   ]
  },
  {
   "cell_type": "markdown",
   "metadata": {},
   "source": [
    "# Проверка гипотезы о равенстве математических ожиданий двух генеральных совокупностей для известных дисперсий"
   ]
  },
  {
   "cell_type": "code",
   "execution_count": 43,
   "metadata": {},
   "outputs": [
    {
     "name": "stdout",
     "output_type": "stream",
     "text": [
      "alpha = 0.05\n",
      "Fzкр = 0.45\n",
      "Zкр = 1.65\n",
      "t = 11.02721143397138\n",
      "Гипотеза отвержена\n"
     ]
    }
   ],
   "source": [
    "alpha = 0.05\n",
    "Fzкр = (1-2 * alpha)/2\n",
    "Zкр = 1.65 #определена по таблице функции Лапласа\n",
    "t = (Expectation_data_x - Expectation_data_y)/(math.sqrt(Variance_x/N_data_x + Variance_y/N_data_y))\n",
    "\n",
    "print(\"alpha = {0}\".format(alpha))\n",
    "print(\"Fzкр = {0}\".format(Fzкр))\n",
    "print(\"Zкр = {0}\".format(Zкр))\n",
    "print(\"t = {0}\".format(math.fabs(t)))\n",
    "\n",
    "if math.fabs(t) > Zкр:\n",
    "    print(\"Гипотеза отвержена\")\n",
    "else:\n",
    "    print(\"Нет оснований отвергать гипотезу\")"
   ]
  },
  {
   "cell_type": "markdown",
   "metadata": {},
   "source": [
    "# Проверка гипотезы о равенстве математических ожиданий двух генеральных совокупностей для неизвестных дисперсий"
   ]
  },
  {
   "cell_type": "code",
   "execution_count": 44,
   "metadata": {},
   "outputs": [
    {
     "name": "stdout",
     "output_type": "stream",
     "text": [
      "S_2_x = 0.08982713233074699\n",
      "S_2_y = 0.01884071630321384\n",
      "k = k + m - 2 = 3880\n",
      "t = 1.9606\n",
      "T = 11.02437046743345\n",
      "Гипотеза отвержена\n"
     ]
    }
   ],
   "source": [
    "S_2_x = (N_data_x /(N_data_x - 1)) * Variance_x\n",
    "S_2_y = (N_data_x /(N_data_x - 1)) * Variance_y\n",
    "T = ((Expectation_data_x - Expectation_data_y)/math.sqrt((N_data_x - 1)*S_2_x + (N_data_y - 1)*S_2_y))*math.sqrt((N_data_x* N_data_y * (N_data_x + N_data_y - 2))/(N_data_x + N_data_y))\n",
    "t = 1.9606 # при alpha = 0,05 и k = m+n-2 по таблице распределения Стьюдента\n",
    "k = N_data_x + N_data_y - 2\n",
    "print(\"S_2_x = {0}\".format(S_2_x))\n",
    "print(\"S_2_y = {0}\".format(S_2_y))\n",
    "print(\"k = k + m - 2 = {0}\".format(k))\n",
    "print(\"t = {0}\".format(t))\n",
    "print(\"T = {0}\".format(math.fabs(T)))\n",
    "\n",
    "if math.fabs(T) > t:\n",
    "    print(\"Гипотеза отвержена\")\n",
    "else:\n",
    "    print(\"Нет оснований отвергать гипотезу\")\n"
   ]
  }
 ],
 "metadata": {
  "kernelspec": {
   "display_name": "Python 3",
   "language": "python",
   "name": "python3"
  },
  "language_info": {
   "codemirror_mode": {
    "name": "ipython",
    "version": 3
   },
   "file_extension": ".py",
   "mimetype": "text/x-python",
   "name": "python",
   "nbconvert_exporter": "python",
   "pygments_lexer": "ipython3",
   "version": "3.7.4"
  }
 },
 "nbformat": 4,
 "nbformat_minor": 2
}
