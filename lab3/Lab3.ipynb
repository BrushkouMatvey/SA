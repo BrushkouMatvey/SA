{
 "cells": [
  {
   "cell_type": "code",
   "execution_count": 656,
   "metadata": {},
   "outputs": [],
   "source": [
    "import numpy as np\n",
    "import os\n",
    "from PIL import Image, ImageOps  \n",
    "from matplotlib import pyplot as plt\n",
    "from scipy import stats\n",
    "import statistics\n",
    "\n",
    "image_1 = Image.open(\"color/image1.jpg\")\n",
    "image_2 = Image.open(\"color/image2.jpg\")\n",
    "\n",
    "width_1, height_1 = image_1.size\n",
    "width_2, height_2 = image_2.size\n",
    "size = min(width_1, width_2), min(height_1, height_2)\n",
    "\n",
    "image_1_grayscale = image_1.convert('L')\n",
    "image_2_grayscale = image_2.convert('L')\n",
    "\n",
    "image_1_grayscale = image_1_grayscale.resize(size, Image.BICUBIC)\n",
    "image_2_grayscale = image_2_grayscale.resize(size, Image.BICUBIC)\n",
    "\n",
    "\n",
    "image_1_grayscale.save(\"grayscale/image_1_grayscale.jpg\")\n",
    "image_2_grayscale.save(\"grayscale/image_2_grayscale.jpg\")"
   ]
  },
  {
   "cell_type": "markdown",
   "metadata": {},
   "source": [
    "## Before grayscale transformation\n",
    "\n",
    "<img src = \"color/image1.jpg\" width=360 height=640>\n",
    "<img src = \"color/image2.jpg\" width=600 height=400>\n",
    "\n",
    "## After grayscale transformation\n",
    "\n",
    "<img src = \"grayscale/image_1_grayscale.jpg\" width=360 height=640>\n",
    "<img src = \"grayscale/image_2_grayscale.jpg\" width=600 height=400>"
   ]
  },
  {
   "cell_type": "code",
   "execution_count": 657,
   "metadata": {},
   "outputs": [
    {
     "name": "stdout",
     "output_type": "stream",
     "text": [
      "[0, 10, 20, 30, 40, 50, 60, 70, 80, 90, 100, 110, 120, 130, 140, 150, 160, 170, 180, 190, 200, 210, 220, 230, 240, 250, 255]\n"
     ]
    },
    {
     "data": {
      "image/png": "[encoded data removed]",
      "text/plain": [
       "<Figure size 432x288 with 1 Axes>"
      ]
     },
     "metadata": {
      "needs_background": "light"
     },
     "output_type": "display_data"
    },
    {
     "name": "stdout",
     "output_type": "stream",
     "text": [
      "[129709.  20586.  17440.  17071.  42722.  37040.  47320.  48120.  43128.\n",
      "  39884.  34835.  37987.  31373.  25032.  23594.  21367.  21542.  20711.\n",
      "  23086.  25377.  25300.  26480.  13978.  10148.  10357.   2003.]\n"
     ]
    },
    {
     "data": {
      "image/png": "[encoded data removed]",
      "text/plain": [
       "<Figure size 432x288 with 1 Axes>"
      ]
     },
     "metadata": {
      "needs_background": "light"
     },
     "output_type": "display_data"
    },
    {
     "name": "stdout",
     "output_type": "stream",
     "text": [
      "[9.7590e+03 3.1062e+04 4.1352e+04 7.8496e+04 6.2920e+04 4.6383e+04\n",
      " 5.4430e+04 5.6665e+04 5.6676e+04 4.5121e+04 3.6477e+04 4.1904e+04\n",
      " 3.8581e+04 3.2958e+04 3.3301e+04 2.5780e+04 2.4766e+04 2.2740e+04\n",
      " 2.3195e+04 1.7060e+04 8.3440e+03 4.4470e+03 2.2730e+03 1.1380e+03\n",
      " 3.4300e+02 1.9000e+01]\n"
     ]
    }
   ],
   "source": [
    "bins = list(range(0, 255, 10))\n",
    "bins.append(255)\n",
    "print(bins)\n",
    "num_bins = int(255 / 10) + 1\n",
    "bins_range = 0, 255\n",
    "\n",
    "#image_1_grayscale = image_1_grayscale.resize(size, Image.BICUBIC)\n",
    "#image_2_grayscale = image_2_grayscale.resize(size, Image.BICUBIC)\n",
    "\n",
    "first_image_pixels = list(image_1_grayscale.getdata())\n",
    "second_image_pixels = list(image_2_grayscale.getdata())\n",
    "\n",
    "#Second image histogram\n",
    "first_bins_values, _, _ = \\\n",
    "    plt.hist(first_image_pixels, num_bins, bins_range,label = \"Image_1\", facecolor='mediumseagreen', edgecolor='black', linewidth=1)\n",
    "\n",
    "plt.title(\"Histograms of grayscale image_1\",fontsize=15) \n",
    "plt.xlabel('Intensity value',fontsize=15)\n",
    "plt.ylabel('Count',fontsize=15)\n",
    "plt.xticks(fontsize=12)\n",
    "plt.yticks(fontsize=12)\n",
    "plt.legend(loc='upper right',fontsize=9)\n",
    "plt.show()\n",
    "\n",
    "print(first_bins_values)\n",
    "\n",
    "\n",
    "#Second image histogram\n",
    "second_bins_values, _, _ = \\\n",
    "    plt.hist(second_image_pixels, num_bins, bins_range,label = \"Image_2\", facecolor='salmon', edgecolor='black', linewidth=1)\n",
    "\n",
    "plt.title(\"Histograms of grayscale image_2\",fontsize=15) \n",
    "plt.xlabel('Intensity value',fontsize=15)\n",
    "plt.ylabel('Count',fontsize=15)\n",
    "plt.xticks(fontsize=12)\n",
    "plt.yticks(fontsize=12)\n",
    "plt.legend(loc='upper right',fontsize=9)\n",
    "\n",
    "plt.show()\n",
    "print(second_bins_values)\n"
   ]
  },
  {
   "cell_type": "markdown",
   "metadata": {},
   "source": [
    "# Calculate means,"
   ]
  },
  {
   "cell_type": "code",
   "execution_count": 660,
   "metadata": {},
   "outputs": [
    {
     "name": "stdout",
     "output_type": "stream",
     "text": [
      "\t\t First histogram\t\t Second histogram\n",
      "mode\t\t (0, 10) \t\t\t (30, 40)\n",
      "mean\t\t 30622.69230769231 \t\t 30622.69230769231\n",
      "Stand. deviation 23010.341305209895 \t\t 21097.248332733296\n",
      "median \t\t 25166.0 \t\t\t 32010.0\n",
      "median interval\t (120, 130) \t\t\t (120, 130)\n",
      "\n",
      "Histograms corr coeff:  0.1679978640182132\n",
      "Images corr coeff:  0.21311526959967772\n"
     ]
    }
   ],
   "source": [
    "def mean(list_of_nums):\n",
    "    total = 0 \n",
    "    for num in list_of_nums:\n",
    "        total = total + num\n",
    "    return total / len(list_of_nums)\n",
    "\n",
    "def mode(list_of_nums):\n",
    "    mode = max(list_of_nums)  \n",
    "    mode_index = list(list_of_nums).index(mode)\n",
    "    return (mode_index*10, (mode_index+1)*10)\n",
    "\n",
    "def median(list_of_nums):\n",
    "    l = list(list_of_nums)\n",
    "    l.sort()\n",
    "    if len(l) % 2 != 0:\n",
    "        middle_index = inf((len(l)- 1)/2)\n",
    "        return l[middle_index]\n",
    "    elif len(l) % 2 == 0:\n",
    "        middle_index_1 = int(len(l)/2)\n",
    "        middle_index_2 = int(len(l)/2)-1\n",
    "        return_middle = (l[middle_index_1] + l[middle_index_2])/2\n",
    "        return return_middle\n",
    "    \n",
    "def median_index(list_of_nums):\n",
    "    l = list(list_of_nums)\n",
    "    l.sort()\n",
    "    if len(l) % 2 != 0:\n",
    "        middle_index = inf((len(l)- 1)/2)\n",
    "        return middle_index\n",
    "    elif len(l) % 2 == 0:\n",
    "        middle_index_1 = int(len(l)/2)\n",
    "        middle_index_2 = int(len(l)/2)-1\n",
    "        return (middle_index_2*10, middle_index_1*10)       \n",
    "\n",
    "    \n",
    "\n",
    "print('\\t\\t First histogram\\t\\t Second histogram')\n",
    "print('mode\\t\\t', mode(first_bins_values),'\\t\\t\\t', mode(second_bins_values))\n",
    "print('mean\\t\\t', mean(first_bins_values),'\\t\\t', mean(second_bins_values))\n",
    "print('Stand. deviation', np.std(first_bins_values), '\\t\\t',np.std(second_bins_values))\n",
    "print('median \\t\\t',median(first_bins_values),'\\t\\t\\t',median(second_bins_values))\n",
    "print('median interval\\t',median_index(first_bins_values),'\\t\\t\\t',median_index(second_bins_values))\n",
    "print('')\n",
    "\n",
    "print('Histograms corr coeff: ', np.corrcoef(first_bins_values, second_bins_values)[0, 1])\n",
    "\n",
    "print('Images corr coeff: ', np.corrcoef(first_image_pixels, second_image_pixels)[0, 1])\n",
    "\n",
    "\n"
   ]
  },
  {
   "cell_type": "code",
   "execution_count": null,
   "metadata": {},
   "outputs": [],
   "source": []
  }
 ],
 "metadata": {
  "kernelspec": {
   "display_name": "Python 3",
   "language": "python",
   "name": "python3"
  },
  "language_info": {
   "codemirror_mode": {
    "name": "ipython",
    "version": 3
   },
   "file_extension": ".py",
   "mimetype": "text/x-python",
   "name": "python",
   "nbconvert_exporter": "python",
   "pygments_lexer": "ipython3",
   "version": "3.7.4"
  }
 },
 "nbformat": 4,
 "nbformat_minor": 2
}
